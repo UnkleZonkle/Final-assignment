{
 "cells": [
  {
   "cell_type": "markdown",
   "id": "48e6ab5a-741a-4b94-ac22-d7ef2759a582",
   "metadata": {},
   "source": [
    "# Data Science Tools and Ecosystem"
   ]
  },
  {
   "cell_type": "markdown",
   "id": "e27b66be-8318-4855-89c0-281b8f5f780b",
   "metadata": {},
   "source": [
    "## Author\n",
    "  ~Josh Alexander"
   ]
  },
  {
   "cell_type": "markdown",
   "id": "12c175d2-cea1-4ae3-8db2-0d47b3a1adc7",
   "metadata": {},
   "source": [
    "In this notebook, Data Science Tools and Ecosystems are summarized. "
   ]
  },
  {
   "cell_type": "markdown",
   "id": "17d1e484-f4c6-4bfd-8133-d0ba7828316e",
   "metadata": {},
   "source": [
    "**Objectives:**\n",
    "* list popular languages for data science\n",
    "* list common libraries for data science\n",
    "* list data science tools\n",
    "* become familiar with data repositories\n",
    "* become familiar with data science communities like Github and Kaggle\n"
   ]
  },
  {
   "cell_type": "markdown",
   "id": "16291a47-a90b-4e15-b1ff-9b074d3be216",
   "metadata": {},
   "source": [
    "Some of the popular languages that Data Scientists use are: \n",
    "1. Python\n",
    "2. SQL\n",
    "3. R\n",
    "4. Java\n",
    "5. Julia\n",
    "6. Scala"
   ]
  },
  {
   "cell_type": "code",
   "execution_count": null,
   "id": "dd8b70af-e26e-4dbe-83c3-8dbf0d0bca77",
   "metadata": {},
   "outputs": [],
   "source": [
    "Some of the commonly used libraries used by Data Scientists include:\n",
    "1. NumPy\n",
    "2. Scikit-learn\n",
    "3. Seaborn\n",
    "4. Ggplot\n",
    "5. Pandas\n"
   ]
  },
  {
   "cell_type": "markdown",
   "id": "58b2ca27-3f10-4575-9b69-1480f57f5d47",
   "metadata": {},
   "source": [
    "| Data Science Tools |\n",
    "--------\n",
    "| Python |\n",
    "| R |\n",
    "| Jupyter Notebook |\n",
    "| Matlab |\n",
    "|Tensorflow |"
   ]
  },
  {
   "cell_type": "markdown",
   "id": "5a93eae4-15fc-435a-b273-cb21101d3587",
   "metadata": {},
   "source": [
    "### Below are a few examples of evaluating arithmetic expressions in Python"
   ]
  },
  {
   "cell_type": "code",
   "execution_count": 26,
   "id": "34af07a0-b4df-4dba-82fd-de4e10fc3f0d",
   "metadata": {},
   "outputs": [
    {
     "data": {
      "text/plain": [
       "17"
      ]
     },
     "execution_count": 26,
     "metadata": {},
     "output_type": "execute_result"
    }
   ],
   "source": [
    "(3*4)+5"
   ]
  },
  {
   "cell_type": "code",
   "execution_count": 43,
   "id": "9b90732c-decf-4d0e-9b63-eb5eca9cd9d6",
   "metadata": {},
   "outputs": [
    {
     "data": {
      "text/plain": [
       "3.3333333333333335"
      ]
     },
     "execution_count": 43,
     "metadata": {},
     "output_type": "execute_result"
    }
   ],
   "source": [
    "# This will convert 200 minutes to hours by dividing by 60\n",
    "hour = 60\n",
    "200/hour"
   ]
  }
 ],
 "metadata": {
  "kernelspec": {
   "display_name": "anaconda-panel-2023.05-py310",
   "language": "python",
   "name": "conda-env-anaconda-panel-2023.05-py310-py"
  },
  "language_info": {
   "codemirror_mode": {
    "name": "ipython",
    "version": 3
   },
   "file_extension": ".py",
   "mimetype": "text/x-python",
   "name": "python",
   "nbconvert_exporter": "python",
   "pygments_lexer": "ipython3",
   "version": "3.11.5"
  }
 },
 "nbformat": 4,
 "nbformat_minor": 5
}
